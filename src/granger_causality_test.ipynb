{
  "nbformat": 4,
  "nbformat_minor": 0,
  "metadata": {
    "colab": {
      "provenance": [],
      "authorship_tag": "ABX9TyMkRayQbBNTdRC8GoF3cZ8D",
      "include_colab_link": true
    },
    "kernelspec": {
      "name": "python3",
      "display_name": "Python 3"
    },
    "language_info": {
      "name": "python"
    }
  },
  "cells": [
    {
      "cell_type": "markdown",
      "metadata": {
        "id": "view-in-github",
        "colab_type": "text"
      },
      "source": [
        "<a href=\"https://colab.research.google.com/github/RyuichiSaito1/inflation-reddit-usa/blob/main/src/granger_causality_test.ipynb\" target=\"_parent\"><img src=\"https://colab.research.google.com/assets/colab-badge.svg\" alt=\"Open In Colab\"/></a>"
      ]
    },
    {
      "cell_type": "code",
      "source": [
        "from google.colab import drive\n",
        "drive.mount('/content/drive')"
      ],
      "metadata": {
        "id": "gKF4dkhgFglB"
      },
      "execution_count": null,
      "outputs": []
    },
    {
      "cell_type": "code",
      "source": [
        "pip install statsmodels"
      ],
      "metadata": {
        "id": "DJB23-Gc7J58"
      },
      "execution_count": null,
      "outputs": []
    },
    {
      "cell_type": "markdown",
      "source": [
        "Original Data Value"
      ],
      "metadata": {
        "id": "H-2OysELam1W"
      }
    },
    {
      "cell_type": "code",
      "source": [
        "import pandas as pd\n",
        "from statsmodels.tsa.stattools import grangercausalitytests\n",
        "import matplotlib.pyplot as plt\n",
        "\n",
        "# Read the data from the given paths\n",
        "cpi_data = pd.read_csv('/content/drive/MyDrive/world-inflation/data/statistics/cpi-u-2012-2022.tsv', sep='\\t')\n",
        "inflation_score_data = pd.read_csv('/content/drive/MyDrive/world-inflation/data/statistics/inflation-score-2012-2022.tsv', sep='\\t')\n",
        "\n",
        "# Correct the date format for CPI data\n",
        "# Extract the month (remove 'M' and use the rest as the month number)\n",
        "cpi_data['Month'] = cpi_data['Period'].str[1:].astype(int)  # Extract the month part after 'M'\n",
        "cpi_data['Date'] = pd.to_datetime(cpi_data['Year'].astype(str) + '-' + cpi_data['Month'].astype(str), format='%Y-%m')\n",
        "\n",
        "# Set 'Date' as index\n",
        "cpi_data.set_index('Date', inplace=True)\n",
        "\n",
        "# Filter CPI data from March 2012 onwards\n",
        "cpi_data = cpi_data[cpi_data.index >= '2012-03-01']\n",
        "\n",
        "# Convert 'month' to DateTime index for inflation score data\n",
        "inflation_score_data['Date'] = pd.to_datetime(inflation_score_data['month'], format='%Y-%m')\n",
        "inflation_score_data.set_index('Date', inplace=True)\n",
        "\n",
        "# Filter inflation score data from March 2012 onwards\n",
        "inflation_score_data = inflation_score_data[inflation_score_data.index >= '2012-03-01']\n",
        "\n",
        "# Merge the CPI and inflation score data on the Date index\n",
        "merged_data = pd.merge(cpi_data[['Value']], inflation_score_data[['moiving_average']], left_index=True, right_index=True)\n",
        "\n",
        "merged_data"
      ],
      "metadata": {
        "id": "7ybW_ONl8VqS"
      },
      "execution_count": null,
      "outputs": []
    },
    {
      "cell_type": "code",
      "source": [
        "# Visualization: Overlay CPI data and inflation score on the same graph\n",
        "fig, ax1 = plt.subplots(figsize=(12, 6))\n",
        "\n",
        "# Plot CPI data (blue)\n",
        "ax1.plot(merged_data.index, merged_data['Value'], label='CPI', color='blue', linewidth=2)\n",
        "ax1.set_xlabel('Date')\n",
        "ax1.set_ylabel('CPI Value', color='blue')\n",
        "ax1.tick_params(axis='y', labelcolor='blue')\n",
        "\n",
        "# Create a second y-axis to plot Inflation Score\n",
        "ax2 = ax1.twinx()\n",
        "# Plot Inflation Score (moiving_average) in red\n",
        "ax2.plot(merged_data.index, merged_data['moiving_average'], label='Inflation Score', color='red', linewidth=2)\n",
        "ax2.set_ylabel('Inflation Score', color='red')\n",
        "ax2.tick_params(axis='y', labelcolor='red')\n",
        "\n",
        "# Add title and grid\n",
        "ax1.set_title('CPI and Inflation Score Trend (2012-2022)', fontweight='bold')\n",
        "ax1.grid(True)\n",
        "\n",
        "# Add legends\n",
        "ax1.legend(loc='upper left')\n",
        "ax2.legend(loc='upper right')\n",
        "\n",
        "# Show the plot\n",
        "plt.tight_layout()\n",
        "plt.show()"
      ],
      "metadata": {
        "id": "10Nhx3TUJqRY"
      },
      "execution_count": null,
      "outputs": []
    },
    {
      "cell_type": "code",
      "source": [
        "from scipy.stats import pearsonr\n",
        "import numpy as np\n",
        "import scipy.stats as stats\n",
        "\n",
        "# Calculate Pearson correlation coefficient, p-value, and degrees of freedom\n",
        "corr, p_value = pearsonr(merged_data['Value'], merged_data['moiving_average'])\n",
        "\n",
        "# Degrees of freedom\n",
        "df = len(merged_data) - 2  # n - 2\n",
        "\n",
        "# Calculate confidence interval for the correlation coefficient\n",
        "# t-statistic for the given correlation\n",
        "t_stat = corr * np.sqrt(df / (1 - corr**2))\n",
        "\n",
        "# Two-tailed confidence level (95% confidence)\n",
        "alpha = 0.05\n",
        "critical_t = stats.t.ppf(1 - alpha / 2, df)\n",
        "\n",
        "# Confidence interval for the correlation coefficient\n",
        "CI_lower = corr - critical_t * np.sqrt((1 - corr**2) / df)\n",
        "CI_upper = corr + critical_t * np.sqrt((1 - corr**2) / df)\n",
        "\n",
        "# Output the correlation, p-value, degrees of freedom, and confidence interval\n",
        "print(f\"Pearson correlation coefficient: {corr:.4f}\")\n",
        "print(f\"P-value: {p_value:.4f}\")\n",
        "print(f\"Degrees of freedom: {df}\")\n",
        "print(f\"95% Confidence interval for the correlation: ({CI_lower:.4f}, {CI_upper:.4f})\")"
      ],
      "metadata": {
        "id": "HRI_C9nuOKNu"
      },
      "execution_count": null,
      "outputs": []
    },
    {
      "cell_type": "code",
      "source": [
        "# Granger causality test function\n",
        "def granger_causality_analysis(data, maxlag=12):\n",
        "    results = []\n",
        "    for lag in range(1, maxlag + 1):\n",
        "        # Inflation score → CPI\n",
        "        inf_to_cpi = grangercausalitytests(\n",
        "            data[['moiving_average', 'Value']],\n",
        "            maxlag=lag\n",
        "        )\n",
        "\n",
        "        # CPI → Inflation score\n",
        "        cpi_to_inf = grangercausalitytests(\n",
        "            data[['Value', 'moiving_average']],\n",
        "            maxlag=lag\n",
        "        )\n",
        "\n",
        "        results.append({\n",
        "            'Lag': lag,\n",
        "            'InflationScore_to_CPI_pvalue': inf_to_cpi[lag][0]['ssr_ftest'][1],\n",
        "            'CPI_to_InflationScore_pvalue': cpi_to_inf[lag][0]['ssr_ftest'][1]\n",
        "        })\n",
        "\n",
        "    return pd.DataFrame(results)\n",
        "\n",
        "# Calculate the results of the Granger causality test\n",
        "granger_results = granger_causality_analysis(merged_data)\n",
        "\n",
        "# Visualization\n",
        "fig, ax = plt.subplots(figsize=(10, 6))\n",
        "\n",
        "# Plot Granger causality test results\n",
        "ax.plot(granger_results['Lag'], granger_results['InflationScore_to_CPI_pvalue'],\n",
        "         marker='o', label='Inflation Score → CPI', color='green')\n",
        "ax.plot(granger_results['Lag'], granger_results['CPI_to_InflationScore_pvalue'],\n",
        "         marker='s', label='CPI → Inflation Score', color='purple')\n",
        "ax.axhline(y=0.05, color='red', linestyle='--', label='Significance Level (0.05)')\n",
        "ax.set_title('Granger Causality Test: P-values', fontweight='bold')\n",
        "ax.set_xlabel('Lag (Months)')\n",
        "ax.set_ylabel('P-value')\n",
        "ax.set_yscale('log')\n",
        "ax.legend()\n",
        "\n",
        "plt.tight_layout()\n",
        "plt.savefig('granger_causality_analysis.png', dpi=300, bbox_inches='tight')\n",
        "plt.show()\n",
        "\n",
        "# Output the results in table format\n",
        "print(\"\\nGranger Causality Test Results:\")\n",
        "print(granger_results.to_string(index=False))"
      ],
      "metadata": {
        "id": "nYspuk70LURn"
      },
      "execution_count": null,
      "outputs": []
    },
    {
      "cell_type": "markdown",
      "source": [
        "12-Month Percent Change"
      ],
      "metadata": {
        "id": "Bzk1iXiiawtn"
      }
    },
    {
      "cell_type": "code",
      "source": [
        "import pandas as pd\n",
        "from statsmodels.tsa.stattools import grangercausalitytests\n",
        "import matplotlib.pyplot as plt\n",
        "\n",
        "# Read the data from the given paths\n",
        "cpi_data = pd.read_csv('/content/drive/MyDrive/world-inflation/data/statistics/cpi-12-2012-2022.tsv', sep='\\t')\n",
        "inflation_score_data = pd.read_csv('/content/drive/MyDrive/world-inflation/data/statistics/inflation-score-2012-2022.tsv', sep='\\t')\n",
        "\n",
        "# Correct the date format for CPI data\n",
        "# Extract the month (remove 'M' and use the rest as the month number)\n",
        "cpi_data['Month'] = cpi_data['Period'].str[1:].astype(int)  # Extract the month part after 'M'\n",
        "cpi_data['Date'] = pd.to_datetime(cpi_data['Year'].astype(str) + '-' + cpi_data['Month'].astype(str), format='%Y-%m')\n",
        "\n",
        "# Set 'Date' as index\n",
        "cpi_data.set_index('Date', inplace=True)\n",
        "\n",
        "# Filter CPI data from March 2012 onwards\n",
        "cpi_data = cpi_data[cpi_data.index >= '2012-03-01']\n",
        "\n",
        "# Convert 'month' to DateTime index for inflation score data\n",
        "inflation_score_data['Date'] = pd.to_datetime(inflation_score_data['month'], format='%Y-%m')\n",
        "inflation_score_data.set_index('Date', inplace=True)\n",
        "\n",
        "# Filter inflation score data from March 2012 onwards\n",
        "inflation_score_data = inflation_score_data[inflation_score_data.index >= '2012-03-01']\n",
        "\n",
        "# Merge the CPI and inflation score data on the Date index\n",
        "merged_data = pd.merge(cpi_data[['Value']], inflation_score_data[['moiving_average']], left_index=True, right_index=True)\n",
        "\n",
        "merged_data"
      ],
      "metadata": {
        "id": "88LCPAzsN-QU"
      },
      "execution_count": null,
      "outputs": []
    },
    {
      "cell_type": "code",
      "source": [
        "# Visualization: Overlay CPI data and inflation score on the same graph\n",
        "fig, ax1 = plt.subplots(figsize=(12, 6))\n",
        "\n",
        "# Plot CPI data (blue)\n",
        "ax1.plot(merged_data.index, merged_data['Value'], label='CPI', color='blue', linewidth=2)\n",
        "ax1.set_xlabel('Date')\n",
        "ax1.set_ylabel('CPI Value', color='blue')\n",
        "ax1.tick_params(axis='y', labelcolor='blue')\n",
        "\n",
        "# Create a second y-axis to plot Inflation Score\n",
        "ax2 = ax1.twinx()\n",
        "# Plot Inflation Score (moiving_average) in red\n",
        "ax2.plot(merged_data.index, merged_data['moiving_average'], label='Inflation Score', color='red', linewidth=2)\n",
        "ax2.set_ylabel('Inflation Score', color='red')\n",
        "ax2.tick_params(axis='y', labelcolor='red')\n",
        "\n",
        "# Add title and grid\n",
        "ax1.set_title('CPI and Inflation Score Trend (2012-2022)', fontweight='bold')\n",
        "ax1.grid(True)\n",
        "\n",
        "# Add legends\n",
        "ax1.legend(loc='upper left')\n",
        "ax2.legend(loc='upper right')\n",
        "\n",
        "# Show the plot\n",
        "plt.tight_layout()\n",
        "plt.show()"
      ],
      "metadata": {
        "id": "hsIzZScEbEoN"
      },
      "execution_count": null,
      "outputs": []
    },
    {
      "cell_type": "code",
      "source": [
        "from scipy.stats import pearsonr\n",
        "import numpy as np\n",
        "import scipy.stats as stats\n",
        "\n",
        "# Calculate Pearson correlation coefficient, p-value, and degrees of freedom\n",
        "corr, p_value = pearsonr(merged_data['Value'], merged_data['moiving_average'])\n",
        "\n",
        "# Degrees of freedom\n",
        "df = len(merged_data) - 2  # n - 2\n",
        "\n",
        "# Calculate confidence interval for the correlation coefficient\n",
        "# t-statistic for the given correlation\n",
        "t_stat = corr * np.sqrt(df / (1 - corr**2))\n",
        "\n",
        "# Two-tailed confidence level (95% confidence)\n",
        "alpha = 0.05\n",
        "critical_t = stats.t.ppf(1 - alpha / 2, df)\n",
        "\n",
        "# Confidence interval for the correlation coefficient\n",
        "CI_lower = corr - critical_t * np.sqrt((1 - corr**2) / df)\n",
        "CI_upper = corr + critical_t * np.sqrt((1 - corr**2) / df)\n",
        "\n",
        "# Output the correlation, p-value, degrees of freedom, and confidence interval\n",
        "print(f\"Pearson correlation coefficient: {corr:.4f}\")\n",
        "print(f\"P-value: {p_value:.4f}\")\n",
        "print(f\"Degrees of freedom: {df}\")\n",
        "print(f\"95% Confidence interval for the correlation: ({CI_lower:.4f}, {CI_upper:.4f})\")"
      ],
      "metadata": {
        "id": "Eg-9kaZJbUVT"
      },
      "execution_count": null,
      "outputs": []
    },
    {
      "cell_type": "code",
      "source": [
        "# Granger causality test function\n",
        "def granger_causality_analysis(data, maxlag=12):\n",
        "    results = []\n",
        "    for lag in range(1, maxlag + 1):\n",
        "        # Inflation score → CPI\n",
        "        inf_to_cpi = grangercausalitytests(\n",
        "            data[['moiving_average', 'Value']],\n",
        "            maxlag=lag\n",
        "        )\n",
        "\n",
        "        # CPI → Inflation score\n",
        "        cpi_to_inf = grangercausalitytests(\n",
        "            data[['Value', 'moiving_average']],\n",
        "            maxlag=lag\n",
        "        )\n",
        "\n",
        "        results.append({\n",
        "            'Lag': lag,\n",
        "            'InflationScore_to_CPI_pvalue': inf_to_cpi[lag][0]['ssr_ftest'][1],\n",
        "            'CPI_to_InflationScore_pvalue': cpi_to_inf[lag][0]['ssr_ftest'][1]\n",
        "        })\n",
        "\n",
        "    return pd.DataFrame(results)\n",
        "\n",
        "# Calculate the results of the Granger causality test\n",
        "granger_results = granger_causality_analysis(merged_data)\n",
        "\n",
        "# Visualization\n",
        "fig, ax = plt.subplots(figsize=(10, 6))\n",
        "\n",
        "# Plot Granger causality test results\n",
        "ax.plot(granger_results['Lag'], granger_results['InflationScore_to_CPI_pvalue'],\n",
        "         marker='o', label='Inflation Score → CPI', color='green')\n",
        "ax.plot(granger_results['Lag'], granger_results['CPI_to_InflationScore_pvalue'],\n",
        "         marker='s', label='CPI → Inflation Score', color='purple')\n",
        "ax.axhline(y=0.05, color='red', linestyle='--', label='Significance Level (0.05)')\n",
        "ax.set_title('Granger Causality Test: P-values', fontweight='bold')\n",
        "ax.set_xlabel('Lag (Months)')\n",
        "ax.set_ylabel('P-value')\n",
        "ax.set_yscale('log')\n",
        "ax.legend()\n",
        "\n",
        "plt.tight_layout()\n",
        "plt.savefig('granger_causality_analysis.png', dpi=300, bbox_inches='tight')\n",
        "plt.show()\n",
        "\n",
        "# Output the results in table format\n",
        "print(\"\\nGranger Causality Test Results:\")\n",
        "print(granger_results.to_string(index=False))"
      ],
      "metadata": {
        "id": "seRJvEhkbUsI"
      },
      "execution_count": null,
      "outputs": []
    },
    {
      "cell_type": "code",
      "source": [],
      "metadata": {
        "id": "J3eP0Bpvbauk"
      },
      "execution_count": null,
      "outputs": []
    }
  ]
}