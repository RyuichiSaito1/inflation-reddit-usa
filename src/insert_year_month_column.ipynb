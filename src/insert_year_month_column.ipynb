{
  "nbformat": 4,
  "nbformat_minor": 0,
  "metadata": {
    "colab": {
      "provenance": [],
      "authorship_tag": "ABX9TyPOLgvKRL7mxfyaJuvHGsBh",
      "include_colab_link": true
    },
    "kernelspec": {
      "name": "python3",
      "display_name": "Python 3"
    },
    "language_info": {
      "name": "python"
    }
  },
  "cells": [
    {
      "cell_type": "markdown",
      "metadata": {
        "id": "view-in-github",
        "colab_type": "text"
      },
      "source": [
        "<a href=\"https://colab.research.google.com/github/RyuichiSaito1/inflation-reddit-usa/blob/main/src/insert_year_month_column.ipynb\" target=\"_parent\"><img src=\"https://colab.research.google.com/assets/colab-badge.svg\" alt=\"Open In Colab\"/></a>"
      ]
    },
    {
      "cell_type": "code",
      "execution_count": null,
      "metadata": {
        "id": "fE_SBegurOuP"
      },
      "outputs": [],
      "source": [
        "from google.colab import drive\n",
        "drive.mount('/content/drive')"
      ]
    },
    {
      "cell_type": "code",
      "source": [
        "import pandas as pd\n",
        "import os\n",
        "\n",
        "# Path to the original TSV file\n",
        "file_path = '/content/drive/MyDrive/world-inflation/result/tsv/merged_cars_results.tsv'\n",
        "\n",
        "# Read the TSV file into a DataFrame\n",
        "df = pd.read_csv(file_path, sep='\\t')\n",
        "\n",
        "# Convert the 'created_date' column to datetime objects\n",
        "df['created_date'] = pd.to_datetime(df['created_date'])\n",
        "\n",
        "# Create the 'year_month' column by formatting the 'created_date'\n",
        "df['year_month'] = df['created_date'].dt.strftime('%Y-%m')\n",
        "\n",
        "# Get the directory and the original filename without extension\n",
        "directory = os.path.dirname(file_path)\n",
        "filename = os.path.splitext(os.path.basename(file_path))[0]\n",
        "\n",
        "# Define the new output path for the TSV file\n",
        "output_path = os.path.join(directory, f\"{filename}_with_year_month.tsv\")\n",
        "\n",
        "# Save the DataFrame to the new TSV file\n",
        "# Use sep='\\t' to specify tab-separated values\n",
        "df.to_csv(output_path, sep='\\t', index=False)\n",
        "\n",
        "print(f\"DataFrame successfully saved to: {output_path}\")"
      ],
      "metadata": {
        "id": "eXzYZpr8OaIs"
      },
      "execution_count": null,
      "outputs": []
    },
    {
      "cell_type": "code",
      "source": [
        "import pandas as pd\n",
        "import os\n",
        "\n",
        "# Path to the original TSV file\n",
        "file_path = '/content/drive/MyDrive/world-inflation/result/tsv/merged_food_results_20260819.tsv'\n",
        "\n",
        "# Read the TSV file into a DataFrame\n",
        "df = pd.read_csv(file_path, sep='\\t')\n",
        "\n",
        "# Convert the 'created_date' column to datetime objects\n",
        "df['created_date'] = pd.to_datetime(df['created_date'])\n",
        "\n",
        "# Create the 'year_month' column by formatting the 'created_date'\n",
        "df['year_month'] = df['created_date'].dt.strftime('%Y-%m')\n",
        "\n",
        "# Get the directory and the original filename without extension\n",
        "directory = os.path.dirname(file_path)\n",
        "filename = os.path.splitext(os.path.basename(file_path))[0]\n",
        "\n",
        "# Define the new output path for the TSV file\n",
        "output_path = os.path.join(directory, f\"{filename}_with_year_month.tsv\")\n",
        "\n",
        "# Save the DataFrame to the new TSV file\n",
        "# Use sep='\\t' to specify tab-separated values\n",
        "df.to_csv(output_path, sep='\\t', index=False)\n",
        "\n",
        "print(f\"DataFrame successfully saved to: {output_path}\")"
      ],
      "metadata": {
        "id": "UOXraVbdt1yd"
      },
      "execution_count": null,
      "outputs": []
    },
    {
      "cell_type": "code",
      "source": [
        "import pandas as pd\n",
        "import os\n",
        "\n",
        "# Path to the original TSV file\n",
        "file_path = '/content/drive/MyDrive/world-inflation/result/tsv/merged_RealEstate_results.tsv'\n",
        "\n",
        "# Read the TSV file into a DataFrame\n",
        "df = pd.read_csv(file_path, sep='\\t')\n",
        "\n",
        "# Convert the 'created_date' column to datetime objects\n",
        "df['created_date'] = pd.to_datetime(df['created_date'])\n",
        "\n",
        "# Create the 'year_month' column by formatting the 'created_date'\n",
        "df['year_month'] = df['created_date'].dt.strftime('%Y-%m')\n",
        "\n",
        "# Get the directory and the original filename without extension\n",
        "directory = os.path.dirname(file_path)\n",
        "filename = os.path.splitext(os.path.basename(file_path))[0]\n",
        "\n",
        "# Define the new output path for the TSV file\n",
        "output_path = os.path.join(directory, f\"{filename}_with_year_month.tsv\")\n",
        "\n",
        "# Save the DataFrame to the new TSV file\n",
        "# Use sep='\\t' to specify tab-separated values\n",
        "df.to_csv(output_path, sep='\\t', index=False)\n",
        "\n",
        "print(f\"DataFrame successfully saved to: {output_path}\")"
      ],
      "metadata": {
        "id": "5Fy9xtQHKm1S"
      },
      "execution_count": null,
      "outputs": []
    },
    {
      "cell_type": "code",
      "source": [
        "import pandas as pd\n",
        "import os\n",
        "\n",
        "# Path to the original TSV file\n",
        "file_path = '/content/drive/MyDrive/world-inflation/result/tsv/merged_travel_results.tsv'\n",
        "\n",
        "# Read the TSV file into a DataFrame\n",
        "df = pd.read_csv(file_path, sep='\\t')\n",
        "\n",
        "# Convert the 'created_date' column to datetime objects\n",
        "df['created_date'] = pd.to_datetime(df['created_date'])\n",
        "\n",
        "# Create the 'year_month' column by formatting the 'created_date'\n",
        "df['year_month'] = df['created_date'].dt.strftime('%Y-%m')\n",
        "\n",
        "# Get the directory and the original filename without extension\n",
        "directory = os.path.dirname(file_path)\n",
        "filename = os.path.splitext(os.path.basename(file_path))[0]\n",
        "\n",
        "# Define the new output path for the TSV file\n",
        "output_path = os.path.join(directory, f\"{filename}_with_year_month.tsv\")\n",
        "\n",
        "# Save the DataFrame to the new TSV file\n",
        "# Use sep='\\t' to specify tab-separated values\n",
        "df.to_csv(output_path, sep='\\t', index=False)\n",
        "\n",
        "print(f\"DataFrame successfully saved to: {output_path}\")"
      ],
      "metadata": {
        "id": "jLzrl1aZQSwL"
      },
      "execution_count": null,
      "outputs": []
    },
    {
      "cell_type": "code",
      "source": [
        "import pandas as pd\n",
        "import os\n",
        "\n",
        "# Path to the original TSV file\n",
        "file_path = '/content/drive/MyDrive/world-inflation/result/tsv/merged_Frugal_results.tsv'\n",
        "\n",
        "# Read the TSV file into a DataFrame\n",
        "df = pd.read_csv(file_path, sep='\\t')\n",
        "\n",
        "# Convert the 'created_date' column to datetime objects\n",
        "df['created_date'] = pd.to_datetime(df['created_date'])\n",
        "\n",
        "# Create the 'year_month' column by formatting the 'created_date'\n",
        "df['year_month'] = df['created_date'].dt.strftime('%Y-%m')\n",
        "\n",
        "# Get the directory and the original filename without extension\n",
        "directory = os.path.dirname(file_path)\n",
        "filename = os.path.splitext(os.path.basename(file_path))[0]\n",
        "\n",
        "# Define the new output path for the TSV file\n",
        "output_path = os.path.join(directory, f\"{filename}_with_year_month.tsv\")\n",
        "\n",
        "# Save the DataFrame to the new TSV file\n",
        "# Use sep='\\t' to specify tab-separated values\n",
        "df.to_csv(output_path, sep='\\t', index=False)\n",
        "\n",
        "print(f\"DataFrame successfully saved to: {output_path}\")"
      ],
      "metadata": {
        "id": "X8THG7VHQYcZ"
      },
      "execution_count": null,
      "outputs": []
    },
    {
      "cell_type": "code",
      "source": [],
      "metadata": {
        "id": "0m9TzaTpQdkT"
      },
      "execution_count": null,
      "outputs": []
    }
  ]
}