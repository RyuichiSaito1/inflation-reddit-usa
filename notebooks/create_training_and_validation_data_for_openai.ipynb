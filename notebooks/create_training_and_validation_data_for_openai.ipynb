{
  "nbformat": 4,
  "nbformat_minor": 0,
  "metadata": {
    "colab": {
      "provenance": [],
      "authorship_tag": "ABX9TyNYwhFDLXkadLdoIDE2KCLh",
      "include_colab_link": true
    },
    "kernelspec": {
      "name": "python3",
      "display_name": "Python 3"
    },
    "language_info": {
      "name": "python"
    }
  },
  "cells": [
    {
      "cell_type": "markdown",
      "metadata": {
        "id": "view-in-github",
        "colab_type": "text"
      },
      "source": [
        "<a href=\"https://colab.research.google.com/github/RyuichiSaito1/inflation-reddit-usa/blob/main/notebooks/create_training_and_validation_data_for_openai.ipynb\" target=\"_parent\"><img src=\"https://colab.research.google.com/assets/colab-badge.svg\" alt=\"Open In Colab\"/></a>"
      ]
    },
    {
      "cell_type": "code",
      "execution_count": null,
      "metadata": {
        "id": "1arAkwyblNNp"
      },
      "outputs": [],
      "source": [
        "from google.colab import drive\n",
        "drive.mount('/content/drive')"
      ]
    },
    {
      "cell_type": "code",
      "source": [
        "import pandas as pd\n",
        "import numpy as np\n",
        "import os\n",
        "from collections import Counter\n",
        "\n",
        "# ☆\n",
        "# File paths\n",
        "input_file = \"/content/drive/MyDrive/world-inflation/data/reddit/production/training-validation-main-prod-65.csv\"\n",
        "train_output = \"/content/drive/MyDrive/world-inflation/data/reddit/production/training-main-prod-65.tsv\"\n",
        "validation_output = \"/content/drive/MyDrive/world-inflation/data/reddit/production/validation-main-prod-65.tsv\"\n",
        "\n",
        "# Read the input TSV file\n",
        "print(\"Reading input file...\")\n",
        "df = pd.read_csv(input_file, sep=',')\n",
        "\n",
        "# Extract only the 'body' and 'inflation' columns\n",
        "df = df[['body', 'inflation']]\n",
        "\n",
        "# Function to create balanced datasets\n",
        "def create_balanced_datasets(data, train_ratio=0.75):\n",
        "\n",
        "    # Separate data by class\n",
        "    class_0 = data[data['inflation'] == 0]\n",
        "    class_1 = data[data['inflation'] == 1]\n",
        "    class_2 = data[data['inflation'] == 2]\n",
        "\n",
        "    # Find the minimum class count\n",
        "    min_class_count = min(len(class_0), len(class_1), len(class_2))\n",
        "\n",
        "    # Sample the same number of instances from each class\n",
        "    class_0 = class_0.sample(min_class_count, random_state=42)\n",
        "    class_1 = class_1.sample(min_class_count, random_state=42)\n",
        "    class_2 = class_2.sample(min_class_count, random_state=42)\n",
        "\n",
        "    # Calculate the number of samples for training and validation\n",
        "    train_samples = int(min_class_count * train_ratio)\n",
        "    val_samples = min_class_count - train_samples\n",
        "\n",
        "    # Create training sets\n",
        "    train_0 = class_0.iloc[:train_samples]\n",
        "    train_1 = class_1.iloc[:train_samples]\n",
        "    train_2 = class_2.iloc[:train_samples]\n",
        "\n",
        "    # Create validation sets\n",
        "    val_0 = class_0.iloc[train_samples:min_class_count]\n",
        "    val_1 = class_1.iloc[train_samples:min_class_count]\n",
        "    val_2 = class_2.iloc[train_samples:min_class_count]\n",
        "\n",
        "    # Combine training and validation sets\n",
        "    train_df = pd.concat([train_0, train_1, train_2])\n",
        "    val_df = pd.concat([val_0, val_1, val_2])\n",
        "\n",
        "    # Shuffle the datasets\n",
        "    train_df = train_df.sample(frac=1, random_state=42).reset_index(drop=True)\n",
        "    val_df = val_df.sample(frac=1, random_state=42).reset_index(drop=True)\n",
        "\n",
        "    return train_df, val_df\n",
        "\n",
        "# Create balanced training and validation datasets\n",
        "print(\"Creating balanced datasets with equal class distribution...\")\n",
        "train_df, val_df = create_balanced_datasets(df)\n",
        "\n",
        "# Print the original distribution\n",
        "print(\"\\nOriginal dataset distribution:\")\n",
        "original_counts = df['inflation'].value_counts().sort_index()\n",
        "print(original_counts)\n",
        "print(f\"Total records: {len(df)}\")\n",
        "\n",
        "# Print the distribution of inflation values in the training dataset\n",
        "print(\"\\nTraining dataset distribution:\")\n",
        "train_counts = train_df['inflation'].value_counts().sort_index()\n",
        "print(train_counts)\n",
        "print(f\"Total training records: {len(train_df)}\")\n",
        "print(f\"Class distribution: {dict(Counter(train_df['inflation']))}\")\n",
        "\n",
        "# Print the distribution of inflation values in the validation dataset\n",
        "print(\"\\nValidation dataset distribution:\")\n",
        "val_counts = val_df['inflation'].value_counts().sort_index()\n",
        "print(val_counts)\n",
        "print(f\"Total validation records: {len(val_df)}\")\n",
        "print(f\"Class distribution: {dict(Counter(val_df['inflation']))}\")\n",
        "\n",
        "# Create output directories if they don't exist\n",
        "os.makedirs(os.path.dirname(train_output), exist_ok=True)\n",
        "os.makedirs(os.path.dirname(validation_output), exist_ok=True)\n",
        "\n",
        "# Save the training and validation datasets\n",
        "print(\"\\nSaving files...\")\n",
        "train_df.to_csv(train_output, sep='\\t', index=False)\n",
        "val_df.to_csv(validation_output, sep='\\t', index=False)\n",
        "\n",
        "print(f\"Training data saved to: {train_output}\")\n",
        "print(f\"Validation data saved to: {validation_output}\")\n",
        "print(\"Done!\")"
      ],
      "metadata": {
        "id": "edyEEA5dlVjX"
      },
      "execution_count": null,
      "outputs": []
    }
  ]
}